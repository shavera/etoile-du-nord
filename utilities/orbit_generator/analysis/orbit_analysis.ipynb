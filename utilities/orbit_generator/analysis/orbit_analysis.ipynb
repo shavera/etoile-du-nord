{
 "cells": [
  {
   "cell_type": "code",
   "execution_count": null,
   "metadata": {
    "collapsed": true,
    "ExecuteTime": {
     "start_time": "2023-04-05T14:19:39.943544Z",
     "end_time": "2023-04-05T14:19:40.459235Z"
    }
   },
   "outputs": [],
   "source": [
    "import numpy as np\n",
    "import pandas as pd\n",
    "import matplotlib.pyplot as plt\n",
    "from scipy.optimize import curve_fit\n",
    "from scipy.stats import linregress"
   ]
  },
  {
   "cell_type": "code",
   "execution_count": null,
   "outputs": [],
   "source": [
    "file_name = \"../physical_circles.h5\"\n",
    "store = pd.HDFStore(file_name, mode=\"r\")\n",
    "test_data = store.get(\"/circles/true\")\n",
    "test_data.index.name = \"time\""
   ],
   "metadata": {
    "collapsed": false,
    "ExecuteTime": {
     "start_time": "2023-04-05T14:19:40.460926Z",
     "end_time": "2023-04-05T14:19:40.486085Z"
    }
   }
  },
  {
   "cell_type": "code",
   "execution_count": null,
   "outputs": [],
   "source": [
    "fig, ax = plt.subplots(subplot_kw={\"projection\": \"3d\"})\n",
    "ax.scatter(test_data.position.x, test_data.position.y, test_data.index)"
   ],
   "metadata": {
    "collapsed": false,
    "ExecuteTime": {
     "start_time": "2023-04-05T14:22:58.462535Z",
     "end_time": "2023-04-05T14:22:58.681868Z"
    }
   }
  },
  {
   "cell_type": "code",
   "execution_count": null,
   "outputs": [],
   "source": [
    "tables={}\n",
    "names = [\"/circles/true\"]\n",
    "timestep_bases = [1, 2, 5]\n",
    "# timestep_magnitudes = [0.001, 0.01, 0.1, 1, 10]\n",
    "timestep_magnitudes = [0.01, 0.1, 1, 10]\n",
    "timesteps = []\n",
    "for magnitude in timestep_magnitudes:\n",
    "    for base in timestep_bases:\n",
    "        timesteps.append(base*magnitude)\n",
    "\n",
    "for timestep in timesteps:\n",
    "    names.append(f\"/circles/ts_{int(1000*timestep)}\")\n",
    "for name in names:\n",
    "    tables[name] = store.get(name)\n",
    "    print(f\"{name}: \\n{tables[name].head()}\")"
   ],
   "metadata": {
    "collapsed": false,
    "ExecuteTime": {
     "start_time": "2023-04-05T14:23:14.675250Z",
     "end_time": "2023-04-05T14:23:14.780122Z"
    }
   }
  },
  {
   "cell_type": "code",
   "execution_count": null,
   "outputs": [],
   "source": [
    "# for name in names:\n",
    "#     table = tables[name]\n",
    "#     table[\"rad\"] = table.apply(lambda row: np.hypot(row.position.x, row.position.y), axis=1)"
   ],
   "metadata": {
    "collapsed": false
   }
  },
  {
   "cell_type": "code",
   "execution_count": null,
   "outputs": [],
   "source": [
    "tables[\"ts_200\"].tail()"
   ],
   "metadata": {
    "collapsed": false
   }
  },
  {
   "cell_type": "code",
   "execution_count": null,
   "outputs": [],
   "source": [
    "fig, ax = plt.subplots()\n",
    "# print(names)\n",
    "# print(tables)\n",
    "for name in names:\n",
    "    if name.startswith(\"true\"): continue\n",
    "    # print(name)\n",
    "    table = tables[name]\n",
    "    # generate radial difference:\n",
    "    table[\"rad_diff\"] = table.apply(lambda row: row.rad - 1e6, axis=1)\n",
    "    # table.head()\n",
    "    ax.plot(table[\"rad_diff\"])"
   ],
   "metadata": {
    "collapsed": false
   }
  },
  {
   "cell_type": "code",
   "execution_count": null,
   "outputs": [],
   "source": [
    "fig, ax = plt.subplots()\n",
    "for name in names:\n",
    "    if name.startswith(\"true\"): continue\n",
    "    # print(name)\n",
    "    table = tables[name]\n",
    "    # generate radial difference:\n",
    "    table[\"rad_diff_pow\"] = table.apply(lambda row: np.power(row.rad_diff, 1/3), axis=1)\n",
    "    # table.head()\n",
    "    ax.plot(table.index, table[\"rad_diff_pow\"])"
   ],
   "metadata": {
    "collapsed": false
   }
  },
  {
   "cell_type": "code",
   "execution_count": null,
   "outputs": [],
   "source": [
    "_table = tables[\"ts_20000\"]\n",
    "regression = linregress(_table.index, _table[\"rad_diff_pow\"], alternative=\"greater\")\n",
    "print(regression)"
   ],
   "metadata": {
    "collapsed": false
   }
  },
  {
   "cell_type": "code",
   "execution_count": null,
   "outputs": [],
   "source": [
    "slopes = []\n",
    "for name in names:\n",
    "    if name.startswith(\"true\"): continue\n",
    "    table = tables[name]\n",
    "    regression = linregress(table.index, table[\"rad_diff_pow\"])\n",
    "    # print(table.tail())\n",
    "    print(regression)\n",
    "    slopes.append(regression.slope)\n",
    "# plt.scatter(timesteps, slopes)\n",
    "print(slopes)\n"
   ],
   "metadata": {
    "collapsed": false
   }
  },
  {
   "cell_type": "code",
   "execution_count": null,
   "outputs": [],
   "source": [
    "# looks maybe logarithmic, or maybe 1/x^2 or something.\n",
    "# plt.scatter(np.log10(timesteps))\n",
    "plt.scatter(np.log10(timesteps), np.log10(slopes))"
   ],
   "metadata": {
    "collapsed": false
   }
  },
  {
   "cell_type": "code",
   "execution_count": null,
   "outputs": [],
   "source": [
    "# not perfectly linear in logxlog space, but probably close enough to get a result\n",
    "reg = linregress(np.log10(timesteps), np.log10(slopes))\n",
    "# print(reg.slope, reg.intercept)\n",
    "# log10(slopes) = reg.slope*log10(timestep) + reg.intercept\n",
    "# slope is (average) increase in radial error over time\n",
    "# to find a timestep for a threshold value of error, invert the regression\n",
    "inv_reg = linregress(np.log10(slopes), np.log10(timesteps))\n"
   ],
   "metadata": {
    "collapsed": false
   }
  },
  {
   "cell_type": "code",
   "execution_count": null,
   "outputs": [],
   "source": [
    "# then use the values to solve for a timestamp:\n",
    "threshold_precision = 4e-6 # using 4 since base radial value is 4, and we want 1 in 10^6 precision, say\n",
    "threshold_timestep_l10 = inv_reg.slope*np.log10(threshold_precision) + inv_reg.intercept\n",
    "threshold_timestep = np.power(10, threshold_timestep_l10)\n",
    "print(threshold_timestep)\n",
    "# 1 microsecond gets us approximately ppm position resolution.\n",
    "# since it's log scale, 10 µs -> 10 ppm, 0.1 ms -> 100 ppm etc. (roughly)"
   ],
   "metadata": {
    "collapsed": false
   }
  }
 ],
 "metadata": {
  "kernelspec": {
   "display_name": "Python 3",
   "language": "python",
   "name": "python3"
  },
  "language_info": {
   "codemirror_mode": {
    "name": "ipython",
    "version": 2
   },
   "file_extension": ".py",
   "mimetype": "text/x-python",
   "name": "python",
   "nbconvert_exporter": "python",
   "pygments_lexer": "ipython2",
   "version": "2.7.6"
  }
 },
 "nbformat": 4,
 "nbformat_minor": 0
}
